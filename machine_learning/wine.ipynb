{
 "cells": [
  {
   "cell_type": "code",
   "execution_count": 13,
   "id": "6664f6f7-1c7e-45e1-b854-49cf7a61c2cf",
   "metadata": {},
   "outputs": [],
   "source": [
    "import pandas as pd\n",
    "\n",
    "from utils import run_regressor\n",
    "from sklearn.linear_model import LinearRegression\n",
    "\n",
    "from itertools import combinations"
   ]
  },
  {
   "cell_type": "code",
   "execution_count": 7,
   "id": "e59d1a2d-f630-4526-bf5e-9a8ce0faf92d",
   "metadata": {},
   "outputs": [
    {
     "data": {
      "text/html": [
       "<div>\n",
       "<style scoped>\n",
       "    .dataframe tbody tr th:only-of-type {\n",
       "        vertical-align: middle;\n",
       "    }\n",
       "\n",
       "    .dataframe tbody tr th {\n",
       "        vertical-align: top;\n",
       "    }\n",
       "\n",
       "    .dataframe thead th {\n",
       "        text-align: right;\n",
       "    }\n",
       "</style>\n",
       "<table border=\"1\" class=\"dataframe\">\n",
       "  <thead>\n",
       "    <tr style=\"text-align: right;\">\n",
       "      <th></th>\n",
       "      <th>Year</th>\n",
       "      <th>Price</th>\n",
       "      <th>WinterRain</th>\n",
       "      <th>AGST</th>\n",
       "      <th>HarvestRain</th>\n",
       "      <th>Age</th>\n",
       "      <th>FrancePop</th>\n",
       "    </tr>\n",
       "  </thead>\n",
       "  <tbody>\n",
       "    <tr>\n",
       "      <th>0</th>\n",
       "      <td>1952</td>\n",
       "      <td>7.4950</td>\n",
       "      <td>600</td>\n",
       "      <td>17.1167</td>\n",
       "      <td>160</td>\n",
       "      <td>31</td>\n",
       "      <td>43183.569</td>\n",
       "    </tr>\n",
       "    <tr>\n",
       "      <th>1</th>\n",
       "      <td>1953</td>\n",
       "      <td>8.0393</td>\n",
       "      <td>690</td>\n",
       "      <td>16.7333</td>\n",
       "      <td>80</td>\n",
       "      <td>30</td>\n",
       "      <td>43495.030</td>\n",
       "    </tr>\n",
       "    <tr>\n",
       "      <th>2</th>\n",
       "      <td>1955</td>\n",
       "      <td>7.6858</td>\n",
       "      <td>502</td>\n",
       "      <td>17.1500</td>\n",
       "      <td>130</td>\n",
       "      <td>28</td>\n",
       "      <td>44217.857</td>\n",
       "    </tr>\n",
       "    <tr>\n",
       "      <th>3</th>\n",
       "      <td>1957</td>\n",
       "      <td>6.9845</td>\n",
       "      <td>420</td>\n",
       "      <td>16.1333</td>\n",
       "      <td>110</td>\n",
       "      <td>26</td>\n",
       "      <td>45152.252</td>\n",
       "    </tr>\n",
       "    <tr>\n",
       "      <th>4</th>\n",
       "      <td>1958</td>\n",
       "      <td>6.7772</td>\n",
       "      <td>582</td>\n",
       "      <td>16.4167</td>\n",
       "      <td>187</td>\n",
       "      <td>25</td>\n",
       "      <td>45653.805</td>\n",
       "    </tr>\n",
       "  </tbody>\n",
       "</table>\n",
       "</div>"
      ],
      "text/plain": [
       "   Year   Price  WinterRain     AGST  HarvestRain  Age  FrancePop\n",
       "0  1952  7.4950         600  17.1167          160   31  43183.569\n",
       "1  1953  8.0393         690  16.7333           80   30  43495.030\n",
       "2  1955  7.6858         502  17.1500          130   28  44217.857\n",
       "3  1957  6.9845         420  16.1333          110   26  45152.252\n",
       "4  1958  6.7772         582  16.4167          187   25  45653.805"
      ]
     },
     "execution_count": 7,
     "metadata": {},
     "output_type": "execute_result"
    }
   ],
   "source": [
    "df = pd.read_csv('data/wine.csv')\n",
    "df.head()"
   ]
  },
  {
   "cell_type": "code",
   "execution_count": 15,
   "id": "5c8a20d3-399d-4667-a5f5-84bb44ee0033",
   "metadata": {},
   "outputs": [
    {
     "name": "stdout",
     "output_type": "stream",
     "text": [
      "WinterRain,0.612,0.523,0.074,0.040,-0.013,0.706,0.621,0.089\n",
      "AGST,0.471,0.388,0.055,0.431,0.400,0.546,0.451,0.066\n",
      "HarvestRain,0.461,0.363,0.051,0.457,0.427,0.757,0.649,0.090\n",
      "Age,0.559,0.480,0.068,0.199,0.154,0.612,0.603,0.086\n",
      "FrancePop,0.557,0.479,0.068,0.205,0.161,0.591,0.582,0.083\n",
      "WinterRain:AGST,0.397,0.341,0.049,0.597,0.549,0.525,0.480,0.071\n",
      "WinterRain:HarvestRain,0.457,0.355,0.050,0.465,0.402,0.785,0.670,0.093\n",
      "WinterRain:Age,0.534,0.471,0.067,0.270,0.184,0.695,0.673,0.095\n",
      "WinterRain:FrancePop,0.535,0.472,0.067,0.268,0.182,0.666,0.645,0.091\n",
      "AGST:HarvestRain,0.350,0.273,0.039,0.686,0.649,0.327,0.246,0.034\n",
      "AGST:Age,0.453,0.367,0.052,0.475,0.413,0.419,0.350,0.052\n",
      "AGST:FrancePop,0.450,0.368,0.052,0.482,0.421,0.414,0.348,0.051\n",
      "HarvestRain:Age,0.324,0.264,0.037,0.731,0.700,0.852,0.746,0.103\n",
      "HarvestRain:FrancePop,0.330,0.261,0.037,0.721,0.688,0.820,0.721,0.099\n",
      "Age:FrancePop,0.557,0.479,0.068,0.206,0.113,0.576,0.567,0.081\n",
      "WinterRain:AGST:HarvestRain,0.303,0.239,0.035,0.764,0.720,0.375,0.301,0.042\n",
      "WinterRain:AGST:Age,0.371,0.316,0.045,0.647,0.581,0.437,0.394,0.059\n",
      "WinterRain:AGST:FrancePop,0.371,0.318,0.046,0.647,0.581,0.436,0.393,0.059\n",
      "WinterRain:HarvestRain:Age,0.308,0.244,0.034,0.757,0.711,0.925,0.795,0.109\n",
      "WinterRain:HarvestRain:FrancePop,0.318,0.246,0.035,0.741,0.693,0.882,0.762,0.105\n",
      "WinterRain:Age:FrancePop,0.534,0.472,0.067,0.270,0.133,0.691,0.669,0.094\n",
      "AGST:HarvestRain:Age,0.274,0.240,0.034,0.808,0.772,0.476,0.380,0.051\n",
      "AGST:HarvestRain:FrancePop,0.276,0.238,0.034,0.805,0.769,0.443,0.359,0.048\n",
      "AGST:Age:FrancePop,0.444,0.373,0.052,0.495,0.400,0.432,0.351,0.052\n",
      "HarvestRain:Age:FrancePop,0.322,0.272,0.038,0.735,0.685,0.882,0.769,0.106\n",
      "WinterRain:AGST:HarvestRain:Age,0.217,0.186,0.027,0.880,0.847,0.512,0.454,0.062\n",
      "WinterRain:AGST:HarvestRain:FrancePop,0.223,0.190,0.028,0.872,0.838,0.477,0.428,0.059\n",
      "WinterRain:AGST:Age:FrancePop,0.371,0.318,0.046,0.647,0.553,0.436,0.393,0.059\n",
      "WinterRain:HarvestRain:Age:FrancePop,0.301,0.245,0.035,0.769,0.707,0.995,0.848,0.116\n",
      "AGST:HarvestRain:Age:FrancePop,0.274,0.241,0.034,0.808,0.756,0.482,0.384,0.051\n",
      "WinterRain:AGST:HarvestRain:Age:FrancePop,0.212,0.181,0.026,0.885,0.844,0.562,0.491,0.067\n"
     ]
    }
   ],
   "source": [
    "\n",
    "IND = [ 'WinterRain', 'AGST', 'HarvestRain', 'Age', 'FrancePop' ]\n",
    "all_combos = []\n",
    "\n",
    "for r in range(1, len(IND) + 1):\n",
    "    all_combos.extend([list(c) for c in combinations(IND, r)])\n",
    "    \n",
    "for combo in all_combos:\n",
    "    print(run_regressor(LinearRegression(), df[combo], y, split_random_state=123, model_description=\":\".join(combo)))"
   ]
  }
 ],
 "metadata": {
  "kernelspec": {
   "display_name": "Python 3 (ipykernel)",
   "language": "python",
   "name": "python3"
  },
  "language_info": {
   "codemirror_mode": {
    "name": "ipython",
    "version": 3
   },
   "file_extension": ".py",
   "mimetype": "text/x-python",
   "name": "python",
   "nbconvert_exporter": "python",
   "pygments_lexer": "ipython3",
   "version": "3.13.5"
  }
 },
 "nbformat": 4,
 "nbformat_minor": 5
}
